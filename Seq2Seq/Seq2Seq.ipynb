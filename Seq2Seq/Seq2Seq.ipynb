{
 "cells": [
  {
   "cell_type": "markdown",
   "metadata": {},
   "source": [
    "# Sequence to Sequence Model"
   ]
  },
  {
   "cell_type": "markdown",
   "metadata": {},
   "source": [
    "## Data loading & Word dictionary"
   ]
  },
  {
   "cell_type": "code",
   "execution_count": 1,
   "metadata": {},
   "outputs": [],
   "source": [
    "import tensorflow as tf\n",
    "import numpy as np\n",
    "import pandas as pd\n",
    "import sm_tool as tool"
   ]
  },
  {
   "cell_type": "code",
   "execution_count": 3,
   "metadata": {},
   "outputs": [],
   "source": [
    "# data loading\n",
    "path = 'data/'\n",
    "fileName = 'rawData_10000.csv'\n",
    "\n",
    "docNo, res, code = tool.loading_data(path+fileName)"
   ]
  },
  {
   "cell_type": "code",
   "execution_count": 4,
   "metadata": {},
   "outputs": [],
   "source": [
    "# 띄어쓰기 교정\n",
    "res_s=tool.spellchecker(res)\n",
    "code_s=tool.spellchecker(code)"
   ]
  },
  {
   "cell_type": "code",
   "execution_count": 5,
   "metadata": {},
   "outputs": [
    {
     "name": "stdout",
     "output_type": "stream",
     "text": [
      "Data 갯수 : 5486, 단어 갯수 : 2819\n"
     ]
    }
   ],
   "source": [
    "# make word dictionary - normalized\n",
    "word_to_ix, ix_to_word = tool.make_dict_all_cut(res_s, code_s, minlength=0, maxlength=3, jamo_delete=True)"
   ]
  },
  {
   "cell_type": "code",
   "execution_count": null,
   "metadata": {},
   "outputs": [],
   "source": [
    "word_to_ix"
   ]
  },
  {
   "cell_type": "code",
   "execution_count": null,
   "metadata": {},
   "outputs": [],
   "source": [
    "ix_to_word"
   ]
  },
  {
   "cell_type": "markdown",
   "metadata": {},
   "source": [
    "## Transform the raw data to input form"
   ]
  },
  {
   "cell_type": "raw",
   "metadata": {
    "collapsed": true
   },
   "source": [
    "# to define encoder size, check data length : res\n",
    "word_EA_list_res=[]\n",
    "for i in range(len(res_s)) :\n",
    "    word_EA_list_res.append(len(res_s[i].split()))\n",
    "    \n",
    "# res data에 쓰인 word의 갯수(띄어씌기 기준)\n",
    "pd.DataFrame(word_EA_list_res)[0].value_counts()"
   ]
  },
  {
   "cell_type": "raw",
   "metadata": {
    "collapsed": true
   },
   "source": [
    "# to define decoder size, check data length : code\n",
    "word_EA_list_cod=[]\n",
    "for i in range(len(code_s)) :\n",
    "    word_EA_list_cod.append(len(code_s[i].split()))\n",
    "\n",
    "# code data에 쓰인 word의 갯수(띄어씌기 기준)\n",
    "pd.DataFrame(word_EA_list_cod)[0].value_counts()"
   ]
  },
  {
   "cell_type": "code",
   "execution_count": 5,
   "metadata": {},
   "outputs": [
    {
     "data": {
      "text/plain": [
       "45"
      ]
     },
     "execution_count": 5,
     "metadata": {},
     "output_type": "execute_result"
    }
   ],
   "source": [
    "tool.check_doclength(res_s, sep=True) # only word (sep = True)"
   ]
  },
  {
   "cell_type": "code",
   "execution_count": 6,
   "metadata": {},
   "outputs": [
    {
     "data": {
      "text/plain": [
       "7"
      ]
     },
     "execution_count": 6,
     "metadata": {},
     "output_type": "execute_result"
    }
   ],
   "source": [
    "tool.check_doclength(code_s, sep=True) # only word (sep = True)"
   ]
  },
  {
   "cell_type": "code",
   "execution_count": 6,
   "metadata": {},
   "outputs": [],
   "source": [
    "# make data inputs\n",
    "encoder_size = 10\n",
    "decoder_size = tool.check_doclength(code_s, sep=True)\n",
    "\n",
    "# 5000번 까지만 train_input을 구성\n",
    "encoderinputs, decoderinputs, targets, targetweights= \\\n",
    "    tool.make_inputs(res_s[:5000], code_s[:5000],\n",
    "                     word_to_ix, \n",
    "                     encoder_size=encoder_size, \n",
    "                     decoder_size=decoder_size,\n",
    "                     shuffle=False)"
   ]
  },
  {
   "cell_type": "markdown",
   "metadata": {},
   "source": [
    "## Model"
   ]
  },
  {
   "cell_type": "code",
   "execution_count": 7,
   "metadata": {},
   "outputs": [],
   "source": [
    "# parameter\n",
    "multi= True,\n",
    "hidden_size = 100\n",
    "num_layers = 3\n",
    "forward_only = False\n",
    "learning_rate = 0.01\n",
    "batch_size = 5\n",
    "voca_size = len(ix_to_word)\n",
    "# use_LSTM = False           # use GRU Cell\n",
    "use_LSTM = True              # use LSTM Cell "
   ]
  },
  {
   "cell_type": "code",
   "execution_count": 8,
   "metadata": {},
   "outputs": [],
   "source": [
    "class seq2seq(object):\n",
    "\n",
    "    def __init__(self, multi, hidden_size, num_layers, forward_only,\n",
    "                 learning_rate, batch_size,\n",
    "                 voca_size, encoder_size, decoder_size, use_LSTM):\n",
    "\n",
    "        # variables\n",
    "        self.source_vocab_size = voca_size\n",
    "        self.target_vocab_size = voca_size\n",
    "        self.batch_size = batch_size\n",
    "        self.encoder_size = encoder_size\n",
    "        self.decoder_size = decoder_size\n",
    "        self.learning_rate = tf.Variable(float(learning_rate), trainable=False)\n",
    "\n",
    "        # networks\n",
    "        W = tf.Variable(tf.random_normal([hidden_size, voca_size]))\n",
    "        b = tf.Variable(tf.random_normal([voca_size]))\n",
    "        output_projection = (W, b) # If we use sampled softmax, we need an output projection.\n",
    "        \n",
    "        # 인덱스만 있는 데이터 (원핫 인코딩 미시행)\n",
    "        self.encoder_inputs = [tf.placeholder(tf.int32, [batch_size]) for _ in range(encoder_size)]  # 인덱스만 있는 데이터 (원핫 인코딩 미시행)\n",
    "        self.decoder_inputs = [tf.placeholder(tf.int32, [batch_size]) for _ in range(decoder_size)]\n",
    "        self.targets = [tf.placeholder(tf.int32, [batch_size]) for _ in range(decoder_size)]\n",
    "        self.target_weights = [tf.placeholder(tf.float32, [batch_size]) for _ in range(decoder_size)]\n",
    "\n",
    "       \n",
    "    # models\n",
    "        \n",
    "         # use LSTM cell or not\n",
    "        if use_LSTM:\n",
    "            def single_cell():\n",
    "                return tf.contrib.rnn.LSTMCell(num_units=hidden_size)\n",
    "        else:\n",
    "            def single_cell():\n",
    "                return tf.contrib.rnn.GRUCell(num_units=hidden_size)\n",
    "            \n",
    "        # determinemulti cell\n",
    "        if multi:\n",
    "            cell = tf.contrib.rnn.MultiRNNCell([single_cell()] * num_layers)\n",
    "        else:\n",
    "            cell = single_cell()\n",
    "                \n",
    "        # train\n",
    "        if not forward_only:            \n",
    "            self.outputs, self.states = tf.contrib.legacy_seq2seq.embedding_attention_seq2seq(\n",
    "                  encoder_inputs=self.encoder_inputs,\n",
    "                  decoder_inputs=self.decoder_inputs,\n",
    "                  cell=cell,\n",
    "                  num_encoder_symbols=self.source_vocab_size,\n",
    "                  num_decoder_symbols=self.target_vocab_size,\n",
    "                  embedding_size=hidden_size,\n",
    "                  output_projection=output_projection,\n",
    "                  feed_previous=False)\n",
    "\n",
    "            self.logits = [tf.matmul(output, output_projection[0]) + output_projection[1] for output in self.outputs]\n",
    "            self.loss = []\n",
    "            for logit, target, target_weight in zip(self.logits, self.targets, self.target_weights):\n",
    "                crossentropy = tf.nn.sparse_softmax_cross_entropy_with_logits(labels=target, logits=logit)\n",
    "                self.loss.append(crossentropy * target_weight)\n",
    "                \n",
    "            self.cost = tf.add_n(self.loss)\n",
    "            self.train_op = tf.train.AdamOptimizer(learning_rate).minimize(self.cost)\n",
    "\n",
    "        # test\n",
    "        else:\n",
    "            self.outputs, self.states = tf.nn.seq2seq.embedding_attention_seq2seq(\n",
    "                self.encoder_inputs, self.decoder_inputs, cell,\n",
    "                num_encoder_symbols=voca_size,\n",
    "                num_decoder_symbols=voca_size,\n",
    "                embedding_size=hidden_size,\n",
    "                output_projection=output_projection,\n",
    "                feed_previous=True)\n",
    "            \n",
    "            self.logits = [tf.matmul(output, output_projection[0]) + output_projection[1] for output in self.outputs]\n",
    "\n",
    "    def step(self, session, encoderinputs, decoderinputs, targets, targetweights, forward_only):\n",
    "        input_feed = {}\n",
    "        for l in range(len(encoder_inputs)):\n",
    "            input_feed[self.encoder_inputs[l].name] = encoderinputs[l]\n",
    "        for l in range(len(decoder_inputs)):\n",
    "            input_feed[self.decoder_inputs[l].name] = decoderinputs[l]\n",
    "            input_feed[self.targets[l].name] = targets[l]\n",
    "            input_feed[self.target_weights[l].name] = targetweights[l]\n",
    "        if not forward_only:\n",
    "            output_feed = [self.train_op, self.cost]\n",
    "        else:\n",
    "            output_feed = []\n",
    "            for l in range(len(decoder_inputs)):\n",
    "                output_feed.append(self.logits[l])\n",
    "        output = session.run(output_feed, input_feed)\n",
    "        if not forward_only:\n",
    "            return output[1] # loss\n",
    "        else:\n",
    "            return output[0:] # outputs"
   ]
  },
  {
   "cell_type": "code",
   "execution_count": 9,
   "metadata": {},
   "outputs": [],
   "source": [
    "model = seq2seq(multi=multi, hidden_size=hidden_size, num_layers=num_layers, forward_only=forward_only, learning_rate=learning_rate, \n",
    "                batch_size=batch_size, voca_size=voca_size, \n",
    "                encoder_size=encoder_size, decoder_size=decoder_size, use_LSTM=use_LSTM)"
   ]
  },
  {
   "cell_type": "code",
   "execution_count": null,
   "metadata": {},
   "outputs": [],
   "source": [
    "sess = tf.Session()\n",
    "sess.run(tf.global_variables_initializer())"
   ]
  },
  {
   "cell_type": "code",
   "execution_count": null,
   "metadata": {
    "scrolled": true
   },
   "outputs": [
    {
     "name": "stdout",
     "output_type": "stream",
     "text": [
      "\n",
      "----step : 10000----\n",
      " LOSS : 1.37741792202 \n",
      " docNo : 14 \n",
      " 예측 : 맛이 좋다 <E> 상큼하 <E> 상큼하 <E> \n",
      " 손질한 정답 : 맛이 좋다 <E> <PAD> <PAD> <PAD> <PAD> \n",
      " 정답 : 맛이 좋다 \n",
      "---------------\n",
      "\n",
      "\n",
      "----step : 20000----\n",
      " LOSS : 1.84513354301 \n",
      " docNo : 23 \n",
      " 예측 : 맛이 좋다 <E> <E> <E> <E> <E> \n",
      " 손질한 정답 : 맛이 좋다 <E> <PAD> <PAD> <PAD> <PAD> \n",
      " 정답 : 맛이 좋다 \n",
      "---------------\n",
      "\n",
      "\n",
      "----step : 30000----\n",
      " LOSS : 7.27754354477 \n",
      " docNo : 37 \n",
      " 예측 : 목 넘김이 부드럽 <E> <E> <E> <E> \n",
      " 손질한 정답 : 목 넘김이 부드럽 <E> <PAD> <PAD> <PAD> \n",
      " 정답 : 목 넘김이 부드럽다 \n",
      "---------------\n",
      "\n",
      "\n",
      "----step : 40000----\n",
      " LOSS : 8.06501960754 \n",
      " docNo : 50 \n",
      " 예측 : 모름 <E> <E> <E> <E> <E> <E> \n",
      " 손질한 정답 : 모름 <E> <PAD> <PAD> <PAD> <PAD> <PAD> \n",
      " 정답 : 모름 \n",
      "---------------\n",
      "\n",
      "\n",
      "----step : 50000----\n",
      " LOSS : 1.93862628937 \n",
      " docNo : 73 \n",
      " 예측 : 맛이 좋다 <E> 있다 <E> <E> <E> \n",
      " 손질한 정답 : 맛이 순하다 <E> <PAD> <PAD> <PAD> <PAD> \n",
      " 정답 : 맛이 순하다 \n",
      "---------------\n",
      "\n",
      "\n",
      "----step : 60000----\n",
      " LOSS : 6.36497783661 \n",
      " docNo : 88 \n",
      " 예측 : 맛이 좋다 <E> 상큼하 <E> 상큼하 <E> \n",
      " 손질한 정답 : 풍미가 좋다 <E> <PAD> <PAD> <PAD> <PAD> \n",
      " 정답 : 풍미가 좋다 \n",
      "---------------\n",
      "\n",
      "\n",
      "----step : 70000----\n",
      " LOSS : 4.14237880707 \n",
      " docNo : 102 \n",
      " 예측 : 맛이 순하다 <E> 순하다 <E> <E> <E> \n",
      " 손질한 정답 : 맛이 순하다 <E> <PAD> <PAD> <PAD> <PAD> \n",
      " 정답 : 맛이 순하다 \n",
      "---------------\n",
      "\n",
      "\n",
      "----step : 80000----\n",
      " LOSS : 1.23279953003 \n",
      " docNo : 113 \n",
      " 예측 : 맛이 깔끔하 <E> <E> <E> <E> <E> \n",
      " 손질한 정답 : 맛이 깔끔하 <E> <PAD> <PAD> <PAD> <PAD> \n",
      " 정답 : 맛이 깔끔하다 \n",
      "---------------\n",
      "\n",
      "\n",
      "----step : 90000----\n",
      " LOSS : 5.84689855576 \n",
      " docNo : 125 \n",
      " 예측 : 맛이 좋다 <E> <E> <E> <E> <E> \n",
      " 손질한 정답 : 맛이 좋다 <E> <PAD> <PAD> <PAD> <PAD> \n",
      " 정답 : 맛이 좋다 \n",
      "---------------\n",
      "\n",
      "\n",
      "----step : 100000----\n",
      " LOSS : 1.46363949776 \n",
      " docNo : 136 \n",
      " 예측 : 브랜드 좋다 <E> <E> <E> <E> <E> \n",
      " 손질한 정답 : 광고가 좋다 <E> <PAD> <PAD> <PAD> <PAD> \n",
      " 정답 : 광고가 좋다 \n",
      "---------------\n",
      "\n",
      "\n",
      "----step : 110000----\n",
      " LOSS : 0.604206204414 \n",
      " docNo : 148 \n",
      " 예측 : 친근하 <E> <E> <E> <E> <E> <E> \n",
      " 손질한 정답 : 친근하 <E> <PAD> <PAD> <PAD> <PAD> <PAD> \n",
      " 정답 : 친근하다 \n",
      "---------------\n",
      "\n",
      "\n",
      "----step : 120000----\n",
      " LOSS : 5.11449241638 \n",
      " docNo : 163 \n",
      " 예측 : 맥주 특유의 향이 살아있 <E> <E> <E> \n",
      " 손질한 정답 : 브랜드 좋다 <E> <PAD> <PAD> <PAD> <PAD> \n",
      " 정답 : 브랜드가 좋다 \n",
      "---------------\n",
      "\n",
      "\n",
      "----step : 130000----\n",
      " LOSS : 1.86705112457 \n",
      " docNo : 177 \n",
      " 예측 : 친근하 <E> <E> <E> <E> <E> <E> \n",
      " 손질한 정답 : 친근하 <E> <PAD> <PAD> <PAD> <PAD> <PAD> \n",
      " 정답 : 친근하다 \n",
      "---------------\n",
      "\n",
      "\n",
      "----step : 140000----\n",
      " LOSS : 4.1948595047 \n",
      " docNo : 188 \n",
      " 예측 : 맛이 산뜻하 <E> <E> <E> <E> <E> \n",
      " 손질한 정답 : 맛이 독특하 <E> <PAD> <PAD> <PAD> <PAD> \n",
      " 정답 : 맛이 독특하다 \n",
      "---------------\n",
      "\n",
      "\n",
      "----step : 150000----\n",
      " LOSS : 3.29552030563 \n",
      " docNo : 202 \n",
      " 예측 : 보리 맛이 좋다 <E> <E> <E> <E> \n",
      " 손질한 정답 : 보리 맛이 진하다 <E> <PAD> <PAD> <PAD> \n",
      " 정답 : 보리 맛이 진하다 \n",
      "---------------\n",
      "\n",
      "\n",
      "----step : 160000----\n",
      " LOSS : 2.1462931633 \n",
      " docNo : 217 \n",
      " 예측 : 맛이 좋다 <E> <E> <E> <E> <E> \n",
      " 손질한 정답 : 맛이 고소하 <E> <PAD> <PAD> <PAD> <PAD> \n",
      " 정답 : 맛이 고소하다 \n",
      "---------------\n",
      "\n",
      "\n",
      "----step : 170000----\n",
      " LOSS : 8.36301517487 \n",
      " docNo : 229 \n",
      " 예측 : 맛이 좋다 <E> 상큼하 <E> <E> <E> \n",
      " 손질한 정답 : 풍미가 좋다 <E> <PAD> <PAD> <PAD> <PAD> \n",
      " 정답 : 풍미가 좋다 \n",
      "---------------\n",
      "\n",
      "\n",
      "----step : 180000----\n",
      " LOSS : 8.64680671692 \n",
      " docNo : 243 \n",
      " 예측 : 맛이 좋다 <E> <E> <E> <E> <E> \n",
      " 손질한 정답 : 맛이 산뜻하 <E> <PAD> <PAD> <PAD> <PAD> \n",
      " 정답 : 맛이 산뜻하다 \n",
      "---------------\n",
      "\n",
      "\n",
      "----step : 190000----\n",
      " LOSS : 8.01208782196 \n",
      " docNo : 261 \n",
      " 예측 : 대중적 추천하 <E> 같다 같다 같다 같다 \n",
      " 손질한 정답 : 느낌이 좋다 <E> <PAD> <PAD> <PAD> <PAD> \n",
      " 정답 : 느낌이 좋다 \n",
      "---------------\n",
      "\n"
     ]
    }
   ],
   "source": [
    "loss = 0.0\n",
    "current_step = 1\n",
    "start = 0\n",
    "end = batch_size\n",
    "steps_per_checkpoint= 10000\n",
    "result_list=[]\n",
    "epoch = 0\n",
    "\n",
    "while epoch < 10000 :\n",
    "    \n",
    "    # 1 epoch\n",
    "    for start in range(len(encoderinputs)-batch_size+1):\n",
    "        \n",
    "        end = (start + batch_size)\n",
    "\n",
    "        # Get a batch and make a step\n",
    "        # make_batch : transposed array\n",
    "        encoder_inputs, decoder_inputs, targets_, target_weights = tool.make_batch(encoderinputs[start:end],\n",
    "                                                                                  decoderinputs[start:end],\n",
    "                                                                                  targets[start:end],\n",
    "                                                                                  targetweights[start:end])\n",
    "\n",
    "        for i in range(decoder_size - 2):\n",
    "            decoder_inputs[i + 1] = np.array([word_to_ix['<PAD>']] * batch_size)\n",
    "\n",
    "        output_logits = model.step(sess, encoder_inputs, decoder_inputs, targets_, target_weights, True)     \n",
    "\n",
    "        predict = [np.argmax(logit, axis=1)[0] for logit in output_logits]\n",
    "        predict = [ix_to_word[ix] for ix in predict]\n",
    "        predict = ' '.join(predict)\n",
    "        \n",
    "        real = [word[0] for word in targets_]\n",
    "        real = [ix_to_word[ix] for ix in real]\n",
    "        real = ' '.join(real)\n",
    "\n",
    "        step_loss = model.step(sess, encoder_inputs, decoder_inputs, targets_, target_weights, False)\n",
    "        loss += np.mean(step_loss)\n",
    "\n",
    "        result_list.append([docNo[start], res[start], code_s[start], real, predict, loss])\n",
    "\n",
    "        # steps_per_checkpoint 별로 진행상황을 check                                                                            \n",
    "        if (current_step % steps_per_checkpoint) == 0 :\n",
    "            print('\\n----step : %d----\\n LOSS : %s \\n docNo : %d \\n 예측 : %s \\n 손질한 정답 : %s \\n 정답 : %s \\n---------------\\n' \n",
    "                  % (current_step, loss, docNo[start], predict, real, code_s[start]))\n",
    "        loss = 0.0  \n",
    "        current_step += 1\n",
    "        \n",
    "    # end of epoch\n",
    "    if end == len(encoderinputs):\n",
    "        start = 0\n",
    "        end = batch_size\n",
    "        epoch += 1        \n",
    "        \n",
    "else :\n",
    "    print('Finished')"
   ]
  },
  {
   "cell_type": "code",
   "execution_count": null,
   "metadata": {},
   "outputs": [],
   "source": [
    "result=pd.DataFrame(result_list, columns=['no', 'res', 'code', 'real', 'predict', 'loss'])"
   ]
  },
  {
   "cell_type": "code",
   "execution_count": null,
   "metadata": {},
   "outputs": [],
   "source": [
    "result"
   ]
  },
  {
   "cell_type": "code",
   "execution_count": null,
   "metadata": {},
   "outputs": [],
   "source": [
    "result.to_csv('result_seq2seqI_171115_LSTM(epoch:10000).csv', encoding='utf-8')"
   ]
  }
 ],
 "metadata": {
  "anaconda-cloud": {},
  "kernelspec": {
   "display_name": "Python [default]",
   "language": "python",
   "name": "python3"
  },
  "language_info": {
   "codemirror_mode": {
    "name": "ipython",
    "version": 3
   },
   "file_extension": ".py",
   "mimetype": "text/x-python",
   "name": "python",
   "nbconvert_exporter": "python",
   "pygments_lexer": "ipython3",
   "version": "3.5.2"
  }
 },
 "nbformat": 4,
 "nbformat_minor": 1
}
